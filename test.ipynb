{
 "cells": [
  {
   "cell_type": "markdown",
   "metadata": {},
   "source": [
    "# Функції для реальзації"
   ]
  },
  {
   "cell_type": "code",
   "execution_count": 10,
   "metadata": {},
   "outputs": [],
   "source": [
    "from difflib import SequenceMatcher\n",
    "import re\n",
    "\n",
    "class FuzzyMatcher:\n",
    "    def __init__(self, threshold=0.8, accurate_digits=True, case_sensitive=False):\n",
    "        self.threshold = threshold\n",
    "        self.accurate_digits = accurate_digits\n",
    "        self.case_sensitive = case_sensitive\n",
    "\n",
    "    def set_threshold(self, threshold):\n",
    "        self.threshold = threshold\n",
    "\n",
    "    def get_threshold(self):\n",
    "        return self.threshold\n",
    "\n",
    "    def set_accurate_digits(self, accurate_digits):\n",
    "        self.accurate_digits = accurate_digits\n",
    "    \n",
    "    def get_accurate_digits(self):\n",
    "        return self.accurate_digits\n",
    "\n",
    "    def match(self, word1, word2):\n",
    "        return self.get_similarity(word1, word2) >= self.threshold\n",
    "\n",
    "    def get_similarity(self, word1, word2):\n",
    "        if self.accurate_digits:\n",
    "            if any(char.isdigit() for char in word1) or any(char.isdigit() for char in word2):\n",
    "              if any(char.isdigit() for char in word1) and any(char.isdigit() for char in word2):\n",
    "                if ''.join(filter(str.isdigit, word1)) != ''.join(filter(str.isdigit, word2)):\n",
    "                  return 0.0\n",
    "        return similarity_score(word1, word2)\n",
    "\n",
    "    def find_best_match(self, word, word_list):\n",
    "\n",
    "        if not self.case_sensitive:\n",
    "            word_list = [word.lower() for word in word_list]\n",
    "            word = word.lower()\n",
    "    \n",
    "        best_match = None\n",
    "        highest_similarity = 0\n",
    "        for candidate in word_list:\n",
    "            similarity = similarity_score(word, candidate)\n",
    "            if similarity > highest_similarity:\n",
    "                highest_similarity = similarity\n",
    "                best_match = candidate\n",
    "        if highest_similarity >= self.threshold:\n",
    "            return best_match\n",
    "        return None\n",
    "\n",
    "    def find_matches(self, word_list, text, indexes=False):\n",
    "        matches = []\n",
    "        for word in self.tokenize(text):\n",
    "            best_match = self.find_best_match(word, word_list)\n",
    "            if indexes:\n",
    "                matches.append([text.index(word), best_match])\n",
    "            else:\n",
    "                matches.append(best_match)\n",
    "        return [match for match in matches if match]\n",
    "\n",
    "    def tokenize(self, text):\n",
    "        return re.findall(r'\\b\\w+\\b', text)\n",
    "\n",
    "def similarity_score(word1, word2):\n",
    "    return SequenceMatcher(None, word1, word2).ratio()\n"
   ]
  },
  {
   "cell_type": "code",
   "execution_count": 14,
   "metadata": {},
   "outputs": [],
   "source": [
    "matcher = FuzzyMatcher(threshold=0.85, accurate_digits=True, case_sensitive=True)"
   ]
  },
  {
   "cell_type": "code",
   "execution_count": 15,
   "metadata": {},
   "outputs": [
    {
     "name": "stdout",
     "output_type": "stream",
     "text": [
      "True\n",
      "0.9565217391304348\n",
      "-----------------\n",
      "True\n",
      "0.0\n"
     ]
    }
   ],
   "source": [
    "print(matcher.match(\"World War I\", \"World War II\")) \n",
    "print(matcher.get_similarity(\"World War I\", \"World War II\")) \n",
    "print(\"-----------------\")\n",
    "print(matcher.match(\"E505\", \"E505\")) \n",
    "print(matcher.get_similarity(\"E505\", \"E504\")) "
   ]
  },
  {
   "cell_type": "code",
   "execution_count": 16,
   "metadata": {},
   "outputs": [
    {
     "data": {
      "text/plain": [
       "['word', 'E505']"
      ]
     },
     "execution_count": 16,
     "metadata": {},
     "output_type": "execute_result"
    }
   ],
   "source": [
    "\n",
    "word_list = [\"E505\", \"E423\", \"E763\", \"word\"]\n",
    "text = '''\n",
    "    hello world E505 E504 \n",
    "    help heo \n",
    "'''\n",
    "matcher.find_matches(word_list, text)"
   ]
  },
  {
   "cell_type": "code",
   "execution_count": null,
   "metadata": {},
   "outputs": [],
   "source": []
  },
  {
   "cell_type": "code",
   "execution_count": null,
   "metadata": {},
   "outputs": [],
   "source": []
  }
 ],
 "metadata": {
  "kernelspec": {
   "display_name": "uni",
   "language": "python",
   "name": "python3"
  },
  "language_info": {
   "codemirror_mode": {
    "name": "ipython",
    "version": 3
   },
   "file_extension": ".py",
   "mimetype": "text/x-python",
   "name": "python",
   "nbconvert_exporter": "python",
   "pygments_lexer": "ipython3",
   "version": "3.13.0"
  }
 },
 "nbformat": 4,
 "nbformat_minor": 2
}
